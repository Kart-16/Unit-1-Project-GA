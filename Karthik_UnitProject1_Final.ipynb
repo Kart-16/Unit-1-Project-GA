{
 "cells": [
  {
   "cell_type": "markdown",
   "metadata": {},
   "source": [
    "<img src=\"http://imgur.com/1ZcRyrc.png\" style=\"float: left; margin: 20px; height: 55px\">\n",
    "\n",
    "# Project 1: Python Coding Exercises\n",
    "\n",
    "_Authors: Joseph Nelson (DC) _\n",
    "\n",
    "---"
   ]
  },
  {
   "cell_type": "markdown",
   "metadata": {},
   "source": [
    "The following code challenges are drawn from common exercises used in technical interviews.\n",
    "\n",
    "Please note that there may be several ways to approach each challenge. If you get stuck, try mapping out your approach in pseudocode first. Finally, while solutions to problems like these may be found online, remember that if you copy/paste code that you can't explain, you'll be missing out on the point of the project. The only way to truly learn a new skill is through practice, trial, and error - we can only help you improve by understanding where you are having trouble."
   ]
  },
  {
   "cell_type": "markdown",
   "metadata": {},
   "source": [
    "### Challenge 1: Largest Palindrome\n",
    "A palindromic number reads the same both ways. For example, 1234321 is a palindrome. The largest palindrome made from the product of two two-digit numbers is 9009 = 91 × 99. Find the largest palindrome made from the product of two three-digit numbers. Afterward, write a brief explanation walking through your code's logic in markdown."
   ]
  },
  {
   "cell_type": "code",
   "execution_count": 16,
   "metadata": {},
   "outputs": [
    {
     "name": "stdout",
     "output_type": "stream",
     "text": [
      "The pallindrome is 906609 and the numbers are 993 and 913\n"
     ]
    }
   ],
   "source": [
    "#The below code assesses every product of 2 integers between 100 and 999 and checks if the product is a pallindrome higher\n",
    "# than the one last found.\n",
    "\n",
    "import math \n",
    "max1 = 0 #initializing highest pallindrome product = 0\n",
    "for x in range(100,1000):\n",
    "    for y in range(100,1000):\n",
    "        if(x*y >= max1):\n",
    "            i =x*y\n",
    "            N = i\n",
    "            sum1=0\n",
    "            while(N>0):\n",
    "                sum1 = sum1 * 10\n",
    "                sum1 = sum1 + (N%10) #stores the last digit of the number\n",
    "                N=math.floor(N/10) #reduces the number by a factor of 10 and stores as int\n",
    "            if (sum1==i and sum1 >= max1):\n",
    "                max1 = i\n",
    "                p = x\n",
    "                q = y\n",
    "                \n",
    "if(max1==0): #Logic check in case no pallindrome is found which we know is not true \n",
    "    print(\"There is no number which is the product of two 3-digit numbers AND is a pallindrome!\")\n",
    "    print(x)\n",
    "    print(y)\n",
    "    print(i)\n",
    "else: #success condition\n",
    "    print(\"The pallindrome is\", max1,\"and the numbers are\",p,\"and\",q)\n",
    "    \n",
    "    \n",
    "\n",
    "\n",
    "\n"
   ]
  },
  {
   "cell_type": "markdown",
   "metadata": {},
   "source": [
    "The code containts two for loops that represent the two 3-digit numbers. The product of those two numbers is stored in the variable i. A small while loop combines the modulus function and division to check for \"pallindrome\" status and whether or not future iterations are greater than the last recognized maximum pallindrome. If true, the new max.pallindrome is stored along with the numbers whose product is the pallindrome. "
   ]
  },
  {
   "cell_type": "markdown",
   "metadata": {},
   "source": [
    "\n",
    "### Challenge 2: Summation of Primes\n",
    "The sum of the primes below 10 is 2 + 3 + 5 + 7 = 17. Find the sum of all the primes below 2,000. Afterward, write a brief explanation walking through your code's logic in markdown."
   ]
  },
  {
   "cell_type": "code",
   "execution_count": 17,
   "metadata": {},
   "outputs": [
    {
     "name": "stdout",
     "output_type": "stream",
     "text": [
      "The sum of all primes below 2,000 is 277050\n"
     ]
    }
   ],
   "source": [
    "#The code below is a method to check if a given number passed as a parameter is prime.\n",
    "def isprime(n):\n",
    "    for i in range (2,int(n/2)+1): #for efficiency, it is enough to check for multiples upto half the number.\n",
    "        if n%i==0:\n",
    "            return 0\n",
    "    return 1 \n",
    "\n",
    "sum1 = 0 #initializing our total sum variable\n",
    "for i in range (2,2001):\n",
    "    if isprime(i):\n",
    "        sum1 += i\n",
    "        \n",
    "print(\"The sum of all primes below 2,000 is\",sum1)\n",
    "    "
   ]
  },
  {
   "cell_type": "markdown",
   "metadata": {},
   "source": [
    "I wrote a method isprime(n) to return whether a number is prime or not. It contains a for loop which looks for multiples starting from 2 to n/2 (not n to reduce cycle time). The main program uses a for loop that iterates from 2 to 2000 adding all numbers that are returned as prime = true in the method."
   ]
  },
  {
   "cell_type": "markdown",
   "metadata": {},
   "source": [
    "### Challenge 3: Multiples of 3 and 5\n",
    "If we list all of the natural numbers below 10 that are multiples of 3 or 5, we get 3, 5, 6, and 9. The sum of these multiples is 23. Find the sum of all the multiples of 3 or 5 below 1,000. Afterward, write a brief explanation walking through your code's logic in markdown."
   ]
  },
  {
   "cell_type": "code",
   "execution_count": 18,
   "metadata": {},
   "outputs": [
    {
     "name": "stdout",
     "output_type": "stream",
     "text": [
      "The sum of the multiples is 233168\n"
     ]
    }
   ],
   "source": [
    "#Method to check if a number passed as a parameter is a multiple of 3 or 5\n",
    "def true_multiple(n):\n",
    "    if(n%3==0 or n%5==0):\n",
    "        return 1\n",
    "    return 0\n",
    "\n",
    "sum1 = 0 #initializing sum to 0\n",
    "for i in range (1,1000):\n",
    "    if(true_multiple(i)): #call method to check if multiple\n",
    "        sum1 += i #add to counter if true\n",
    "        \n",
    "#Print answer.\n",
    "print(\"The sum of the multiples is\",sum1)"
   ]
  },
  {
   "cell_type": "markdown",
   "metadata": {},
   "source": [
    "I first wrote a method to verify if a given number is a multiple of 3 or 5. If yes, it gets added to the variable sum1."
   ]
  },
  {
   "cell_type": "markdown",
   "metadata": {},
   "source": [
    "### Challenge 4: String Compressor\n",
    "Implement a method to perform basic string compression using the counts of repeated characters. (This is called run-length encoding.) For example, the string \"aabcccccaaa\" would become a2b1c5a3. If the “compressed” string would not become smaller than the original string, your method should return the original string. You can assume the string has only uppercase and lowercase letters (a–z). Specify whether your solution is case sensitive or case insensitive and what you would need to change to make it the other. Afterward, write a brief explanation walking through your code's logic in markdown."
   ]
  },
  {
   "cell_type": "code",
   "execution_count": 19,
   "metadata": {
    "scrolled": true
   },
   "outputs": [
    {
     "name": "stdout",
     "output_type": "stream",
     "text": [
      "Enter the string:aaAAbbbCCCcDDDDDDd\n",
      "a2A2b3C3c1D6d1\n"
     ]
    }
   ],
   "source": [
    "my_str = input(\"Enter the string:\")  #Initialize the string with user input\n",
    "leng = len(my_str)  #get length of user input string\n",
    "new_str = str()  #initialize new string to hold endoded string\n",
    "count=1\n",
    "\n",
    "#Below is optional code to conver the string to upper. This will make the program case insensitive.\n",
    "#my_str = my_str.upper()\n",
    "\n",
    "for i in range(0,leng-1):   #Only goes until length -1 to stay within range\n",
    "    if(my_str[i]==my_str[i+1]):  #if character equal to next character, increment counter\n",
    "        count+=1\n",
    "    else:  #when not,append character and count to new string\n",
    "        new_str += my_str[i]\n",
    "        new_str += str(count)\n",
    "        count = 1\n",
    "\n",
    "#Below is logic to manage the last character of the string\n",
    "i+=1     \n",
    "new_str += my_str[i]\n",
    "new_str+= str(count)\n",
    "\n",
    "#check if encoding reduced length, if not - print original string\n",
    "if(len(new_str)<leng): \n",
    "    print(new_str)\n",
    "else:\n",
    "    print(my_str)\n",
    "   \n"
   ]
  },
  {
   "cell_type": "markdown",
   "metadata": {},
   "source": [
    "Explanation: The logic above looks for the next character of the string and compares with the current location. If found to be similar, the counter is incremented by 1 and the for loop moves to the next character to repeat this step. If character does not match, it simply gets appended to the new string along with the default count (1). In the end, the two lengths are compared to ascertain shortening of the string. \n",
    "\n",
    "Case Handling: the code above is case-sensitive. In order to make it insensitive, we would change the whole string to upper or lower case (as shown in comment above). In order to verify, just uncomment the line #my_str = my_str.upper()."
   ]
  },
  {
   "cell_type": "markdown",
   "metadata": {},
   "source": [
    "### Challenge 5: FizzBuzz\n",
    "\n",
    "Write a program that prints all of the numbers from 1 to 100. For multiples of 3, instead of the number, print \"Fizz;\" for multiples of 5, print \"Buzz.\" For numbers that are multiples of both 3 and 5, print \"FizzBuzz.\" Afterward, write a brief explanation walking through your code's logic in markdown."
   ]
  },
  {
   "cell_type": "code",
   "execution_count": 20,
   "metadata": {},
   "outputs": [
    {
     "name": "stdout",
     "output_type": "stream",
     "text": [
      "1\n",
      "2\n",
      "Fizz\n",
      "4\n",
      "Buzz\n",
      "Fizz\n",
      "7\n",
      "8\n",
      "Fizz\n",
      "Buzz\n",
      "11\n",
      "Fizz\n",
      "13\n",
      "14\n",
      "FizzBuzz\n",
      "16\n",
      "17\n",
      "Fizz\n",
      "19\n",
      "Buzz\n",
      "Fizz\n",
      "22\n",
      "23\n",
      "Fizz\n",
      "Buzz\n",
      "26\n",
      "Fizz\n",
      "28\n",
      "29\n",
      "FizzBuzz\n",
      "31\n",
      "32\n",
      "Fizz\n",
      "34\n",
      "Buzz\n",
      "Fizz\n",
      "37\n",
      "38\n",
      "Fizz\n",
      "Buzz\n",
      "41\n",
      "Fizz\n",
      "43\n",
      "44\n",
      "FizzBuzz\n",
      "46\n",
      "47\n",
      "Fizz\n",
      "49\n",
      "Buzz\n",
      "Fizz\n",
      "52\n",
      "53\n",
      "Fizz\n",
      "Buzz\n",
      "56\n",
      "Fizz\n",
      "58\n",
      "59\n",
      "FizzBuzz\n",
      "61\n",
      "62\n",
      "Fizz\n",
      "64\n",
      "Buzz\n",
      "Fizz\n",
      "67\n",
      "68\n",
      "Fizz\n",
      "Buzz\n",
      "71\n",
      "Fizz\n",
      "73\n",
      "74\n",
      "FizzBuzz\n",
      "76\n",
      "77\n",
      "Fizz\n",
      "79\n",
      "Buzz\n",
      "Fizz\n",
      "82\n",
      "83\n",
      "Fizz\n",
      "Buzz\n",
      "86\n",
      "Fizz\n",
      "88\n",
      "89\n",
      "FizzBuzz\n",
      "91\n",
      "92\n",
      "Fizz\n",
      "94\n",
      "Buzz\n",
      "Fizz\n",
      "97\n",
      "98\n",
      "Fizz\n",
      "Buzz\n"
     ]
    }
   ],
   "source": [
    "for i in range(1,101):\n",
    "    if(i%3==0 and i%5==0): #check for multiples of both 3 and 5 first\n",
    "        print(\"FizzBuzz\")\n",
    "    elif (i%3==0):  #else check if multiple of 3 only\n",
    "        print(\"Fizz\")\n",
    "    elif (i%5==0):  #else check if multiple of 5 only\n",
    "        print(\"Buzz\")\n",
    "    else:  #else print the number as is\n",
    "        print(i)\n",
    "        \n",
    "#In the above code, I used an if-elseif-else contruct to check for the given criteria. The above order is important for only one if condition to execute."
   ]
  },
  {
   "cell_type": "markdown",
   "metadata": {},
   "source": [
    "In the above code, I used an if-elseif-else contruct to check for the given criteria. The above chronology of \"if\" statements is important so that only one if condition to execute. The code first checks for multiples of both 3 and 5, before checking 3 and 5 individually."
   ]
  }
 ],
 "metadata": {
  "anaconda-cloud": {},
  "kernelspec": {
   "display_name": "Python 3",
   "language": "python",
   "name": "python3"
  },
  "language_info": {
   "codemirror_mode": {
    "name": "ipython",
    "version": 3
   },
   "file_extension": ".py",
   "mimetype": "text/x-python",
   "name": "python",
   "nbconvert_exporter": "python",
   "pygments_lexer": "ipython3",
   "version": "3.6.5"
  }
 },
 "nbformat": 4,
 "nbformat_minor": 2
}
